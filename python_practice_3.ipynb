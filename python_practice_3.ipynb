{
 "nbformat": 4,
 "nbformat_minor": 0,
 "metadata": {
  "colab": {
   "provenance": []
  },
  "kernelspec": {
   "name": "python3",
   "display_name": "Python 3 (ipykernel)",
   "language": "python"
  },
  "language_info": {
   "name": "python"
  }
 },
 "cells": [
  {
   "cell_type": "markdown",
   "source": [
    "# I. Оператори порівняння та логічні оператори. Умови."
   ],
   "metadata": {
    "id": "qDEi2Pi-4yUC"
   }
  },
  {
   "cell_type": "markdown",
   "source": [
    "1. (5б) Створіть цілочисленну змінну зі своїм щасливим або улюбленим числом. Напишіть код, який би автоматизовував наступну задачу.\n",
    "\n",
    "Якщо число парне, помножте його на 2 та виведіть результат на екран.\n",
    "\n",
    "Але якщо число непарне, помножте його на 3 та додайте 1 і виведіть на екран."
   ],
   "metadata": {
    "id": "3v8D4Dkm43Ua"
   }
  },
  {
   "cell_type": "code",
   "metadata": {
    "id": "dlVjc-Nu4bmb",
    "ExecuteTime": {
     "end_time": "2025-02-22T17:08:34.920423Z",
     "start_time": "2025-02-22T17:08:34.914902Z"
    }
   },
   "source": [
    "n = 42\n",
    "\n",
    "if n % 2 == 0:\n",
    "    print(2 * n)\n",
    "else:\n",
    "    print(3 * n + 1)"
   ],
   "outputs": [
    {
     "name": "stdout",
     "output_type": "stream",
     "text": [
      "84\n"
     ]
    }
   ],
   "execution_count": 51
  },
  {
   "cell_type": "markdown",
   "source": "2. (9б) Створіть змінну, що посилається на список. Якщо список пустий, додайте будь-який елемент у кінець списку. Якщо ж ні, то нічого не робіть.",
   "metadata": {
    "id": "H669P0QK5BI_"
   }
  },
  {
   "cell_type": "code",
   "source": [
    "def process(x: list):\n",
    "    if len(x) == 0:\n",
    "        x.append(\"Something\")\n",
    "\n",
    "items = []\n",
    "print(\"Items before:\", items)\n",
    "process(items)\n",
    "print(\"Items after:\", items)\n",
    "\n",
    "items1 = [\"123\", \"345\"]\n",
    "print(\"Items1 before:\", items1)\n",
    "process(items)\n",
    "print(\"Items1 after:\", items1)"
   ],
   "metadata": {
    "id": "ecWlfra45f6E",
    "ExecuteTime": {
     "end_time": "2025-02-22T17:08:34.995010Z",
     "start_time": "2025-02-22T17:08:34.983472Z"
    }
   },
   "outputs": [
    {
     "name": "stdout",
     "output_type": "stream",
     "text": [
      "Items before: []\n",
      "Items after: ['Something']\n",
      "Items1 before: ['123', '345']\n",
      "Items1 after: ['123', '345']\n"
     ]
    }
   ],
   "execution_count": 52
  },
  {
   "cell_type": "markdown",
   "source": [
    "3. (13б) Створіть рядок зі своїм імʼям латинкою. Напишіть код, який би автоматизовував наступну задачу.\n",
    "\n",
    "Якщо в імені є літера \"а\"\n",
    " або \"i\", Виведіть на екран повідомлення \"A or I is in the name\".\n",
    "\n",
    "\n",
    "\n",
    "Якщо в імені є літери \"o\" та \"n\", Виведіть на екран повідомлення \"O and N is in the name\".\n",
    "\n",
    "Також якщо в імені немає літери \"о\", але є \"n\", Виведіть на екран повідомлення \"Only N is in the name\".\n",
    "\n",
    "В решті випадків виведіть на екран повідомлення \"There is no N in the name, but there might be O\".\n",
    "\n",
    "Зверніть увагу, що, наприклад, для імені \"Antonina\" буде виведено два повідомлення."
   ],
   "metadata": {
    "id": "h9Y3cMUd5h85"
   }
  },
  {
   "cell_type": "code",
   "source": [
    "name = \"Ruslan\"\n",
    "\n",
    "name = name.lower()\n",
    "if \"a\" in name or \"i\" in name:\n",
    "    print(\"A or I is in the name\")\n",
    "if \"n\" in name:\n",
    "    if \"o\" in name:\n",
    "        print(\"O and N is in the name\")\n",
    "    else:\n",
    "        print(\"Only N is in the name\")\n",
    "else:\n",
    "    print(\"There is no N in the name, but there might be O\")\n"
   ],
   "metadata": {
    "id": "bUH4LUx35u52",
    "ExecuteTime": {
     "end_time": "2025-02-22T17:08:35.017139Z",
     "start_time": "2025-02-22T17:08:35.011029Z"
    }
   },
   "outputs": [
    {
     "name": "stdout",
     "output_type": "stream",
     "text": [
      "A or I is in the name\n",
      "Only N is in the name\n"
     ]
    }
   ],
   "execution_count": 53
  },
  {
   "cell_type": "markdown",
   "source": [
    "# II. Comprehensions."
   ],
   "metadata": {
    "id": "wPCXJv4354cU"
   }
  },
  {
   "cell_type": "markdown",
   "source": [
    "4. (5б) Створіть список, використовуючи if (не if-else), range та comprehension."
   ],
   "metadata": {
    "id": "jULLW5jN55Pw"
   }
  },
  {
   "cell_type": "code",
   "source": [
    "items = [5 * x for x in range(0, 10) if x % 2 == 0]\n",
    "print(items)"
   ],
   "metadata": {
    "id": "mlZalnVC6W3F",
    "ExecuteTime": {
     "end_time": "2025-02-22T17:08:35.046847Z",
     "start_time": "2025-02-22T17:08:35.039163Z"
    }
   },
   "outputs": [
    {
     "name": "stdout",
     "output_type": "stream",
     "text": [
      "[0, 10, 20, 30, 40]\n"
     ]
    }
   ],
   "execution_count": 54
  },
  {
   "cell_type": "markdown",
   "source": [
    "5. (9б) Створіть словник, використовуючи dict comprehension, що містить if else. Коли слід використовувати comprehensions, а коли їх слід уникати?"
   ],
   "metadata": {
    "id": "LqhEQ4JW6XcC"
   }
  },
  {
   "cell_type": "code",
   "source": [
    "items = {4 * x if x % 2 == 0 else 2 * x for x in range(0, 10)}\n",
    "print(items)"
   ],
   "metadata": {
    "id": "1yVaFbOs6hta",
    "ExecuteTime": {
     "end_time": "2025-02-22T17:08:35.076406Z",
     "start_time": "2025-02-22T17:08:35.066869Z"
    }
   },
   "outputs": [
    {
     "name": "stdout",
     "output_type": "stream",
     "text": [
      "{0, 32, 2, 6, 8, 10, 14, 16, 18, 24}\n"
     ]
    }
   ],
   "execution_count": 55
  },
  {
   "cell_type": "markdown",
   "source": [
    "Comprehensions should be used for simple processing and filtering, which leads to short and readable code. While for more complex processing, or one which might contain error handling, loops and functions are preferred.\n",
    "\n",
    "Also, recently I discovered that there are also generator comprehensions in python, with similar syntax `(x ** 2 for x in range(1,10))`, which is a handy method for creating large or even infinite sequences."
   ],
   "metadata": {
    "id": "wbkzNhKq6hzz"
   }
  },
  {
   "cell_type": "markdown",
   "source": [
    "6. (9б) Створіть список з рядками та запишіть його у змінну. Створіть ще один список на основі попереднього, де кожен рядок буде містити тільки три перших заглавних символи. Наприклад: ['hello', 'i', 'dont', 'care'] -> ['HEL', 'I', 'DON', 'CAR']. Використання comprehensions обовʼязкове."
   ],
   "metadata": {
    "id": "ZlqB8G3G6lHP"
   }
  },
  {
   "cell_type": "code",
   "source": [
    "items = [\"hello\", \"i\", \"dont\", \"care\"]\n",
    "output = [x[0:3].upper() for x in items]\n",
    "\n",
    "print(\"Input:\", items)\n",
    "print(\"Result:\", output)"
   ],
   "metadata": {
    "id": "nw6rz0bR60VC",
    "ExecuteTime": {
     "end_time": "2025-02-22T17:08:35.098667Z",
     "start_time": "2025-02-22T17:08:35.090929Z"
    }
   },
   "outputs": [
    {
     "name": "stdout",
     "output_type": "stream",
     "text": [
      "Input: ['hello', 'i', 'dont', 'care']\n",
      "Result: ['HEL', 'I', 'DON', 'CAR']\n"
     ]
    }
   ],
   "execution_count": 56
  },
  {
   "cell_type": "markdown",
   "source": [
    "# III. Цикли."
   ],
   "metadata": {
    "id": "Tj573IAH64Fz"
   }
  },
  {
   "cell_type": "markdown",
   "source": [
    "7. (5б) Продемонструйте роботу циклу while. Не можна використовувати True для запуску циклу, щоб уникнути безкінечного циклу!"
   ],
   "metadata": {
    "id": "tN_33xdE65H5"
   }
  },
  {
   "cell_type": "code",
   "source": [
    "names = [\"Monday\", \"Tuesday\", \"Wednesday\", \"Thursday\", \"Friday\", \"Saturday\", \"Sunday\"]\n",
    "\n",
    "i = 0\n",
    "while i < len(names):\n",
    "    print(\"Today is\", names[i])\n",
    "    i += 1"
   ],
   "metadata": {
    "id": "Kd9FO6yG63P5",
    "ExecuteTime": {
     "end_time": "2025-02-22T17:08:35.182422Z",
     "start_time": "2025-02-22T17:08:35.173309Z"
    }
   },
   "outputs": [
    {
     "name": "stdout",
     "output_type": "stream",
     "text": [
      "Today is Monday\n",
      "Today is Tuesday\n",
      "Today is Wednesday\n",
      "Today is Thursday\n",
      "Today is Friday\n",
      "Today is Saturday\n",
      "Today is Sunday\n"
     ]
    }
   ],
   "execution_count": 57
  },
  {
   "cell_type": "markdown",
   "source": [
    "8. (5б) Напишіть програму, яка виведе на екран непарні числа в діапазоні від 0 до 20 включно."
   ],
   "metadata": {
    "id": "x2CmfZO-7pW0"
   }
  },
  {
   "cell_type": "code",
   "source": [
    "for i in range(1, 20, 2):\n",
    "    print(i)"
   ],
   "metadata": {
    "id": "aCSRYA6s7tkF",
    "ExecuteTime": {
     "end_time": "2025-02-22T17:08:35.205249Z",
     "start_time": "2025-02-22T17:08:35.197454Z"
    }
   },
   "outputs": [
    {
     "name": "stdout",
     "output_type": "stream",
     "text": [
      "1\n",
      "3\n",
      "5\n",
      "7\n",
      "9\n",
      "11\n",
      "13\n",
      "15\n",
      "17\n",
      "19\n"
     ]
    }
   ],
   "execution_count": 58
  },
  {
   "cell_type": "markdown",
   "source": [
    "9. (13б) Створіть список з елементами булевого типу або None. Використовуючи цикли, отримайте в результаті список з кортежами, де перший елемент кортежу - індекс(ціле число), а другий елемент - відповідне значення з першого списку.\n",
    "\n",
    "Наприклад, [True, True, None, False] -> [(0, True), (1, True), (2, None), (3, False)]"
   ],
   "metadata": {
    "id": "MDWNocZD7t_B"
   }
  },
  {
   "cell_type": "code",
   "source": [
    "items = [True, True, None, False]\n",
    "tuples = []\n",
    "for i in range(len(items)):\n",
    "    tuples.append((i, items[i]))\n",
    "    \n",
    "print(\"Items:\", items)\n",
    "print(\"Tuples:\", tuples)"
   ],
   "metadata": {
    "id": "0EUyjMdp7yfh",
    "ExecuteTime": {
     "end_time": "2025-02-22T17:08:35.263021Z",
     "start_time": "2025-02-22T17:08:35.253270Z"
    }
   },
   "outputs": [
    {
     "name": "stdout",
     "output_type": "stream",
     "text": [
      "Items: [True, True, None, False]\n",
      "Tuples: [(0, True), (1, True), (2, None), (3, False)]\n"
     ]
    }
   ],
   "execution_count": 59
  },
  {
   "cell_type": "markdown",
   "source": [
    "10. (9б) Створіть словник, де ключі - назви книжок, а значення - їхня кількість у наявності в Вашій міні-бібліотеці. Бібліотека має містити щонайменше 6 книжок (6 пар значень у словнику) і щонайбільше 10 (пар значень). Використовуючи цикли, оновіть словник (не створюйте новий) так, щоби кількість книг у наявності збільшилося на 5 кожної книги. Наприклад,\n",
    "{'It': 3, 'Fault stars': 10, 'Bible': 17, 'Psychological romance': 4, 'Harry Potter': 13} -> {'It': 8, 'Fault stars': 15, 'Bible': 22, 'Psychological romance': 9, 'Harry Potter': 18}"
   ],
   "metadata": {
    "id": "-6XUqlcG7zKs"
   }
  },
  {
   "cell_type": "code",
   "source": [
    "books = {\n",
    "    \"Bible\": 666,\n",
    "    \"Harry Potter\": 10,\n",
    "    \"The Lord of The Rings\": 2,\n",
    "    \"Dracula\": 1,\n",
    "    \"Faust\": 10,\n",
    "    \"A Clockwork Orange\": 3,\n",
    "    \"The Picture of Dorian Gray\": 4\n",
    "}\n",
    "\n",
    "print(\"Before:\", books)\n",
    "for book in books:\n",
    "    books[book] += 1\n",
    "    \n",
    "print(\"After:\", books)"
   ],
   "metadata": {
    "id": "Ceoj9wwb791q",
    "ExecuteTime": {
     "end_time": "2025-02-22T17:08:35.309724Z",
     "start_time": "2025-02-22T17:08:35.299219Z"
    }
   },
   "outputs": [
    {
     "name": "stdout",
     "output_type": "stream",
     "text": [
      "Before: {'Bible': 666, 'Harry Potter': 10, 'The Lord of The Rings': 2, 'Dracula': 1, 'Faust': 10, 'A Clockwork Orange': 3, 'The Picture of Dorian Gray': 4}\n",
      "After: {'Bible': 667, 'Harry Potter': 11, 'The Lord of The Rings': 3, 'Dracula': 2, 'Faust': 11, 'A Clockwork Orange': 4, 'The Picture of Dorian Gray': 5}\n"
     ]
    }
   ],
   "execution_count": 60
  },
  {
   "cell_type": "markdown",
   "source": [
    "11. (5б) Визначте цілочислену змінну n, що належить проміжку від 4 до 10 включно. Використовуючи цикли, виведіть в консоль наступний патерн.\n",
    "```\n",
    "#\n",
    "##\n",
    "###\n",
    "####\n",
    "\n",
    "... #*n\n",
    "```"
   ],
   "metadata": {
    "id": "QLzyJM288AC7"
   }
  },
  {
   "cell_type": "code",
   "source": [
    "n = 5\n",
    "\n",
    "for row_i in range(1, n + 1):\n",
    "    for col_i in range(row_i):\n",
    "        print(\"#\", end=' ')\n",
    "        \n",
    "    print()"
   ],
   "metadata": {
    "id": "KOpng87s8Duz",
    "ExecuteTime": {
     "end_time": "2025-02-22T17:08:35.363863Z",
     "start_time": "2025-02-22T17:08:35.355245Z"
    }
   },
   "outputs": [
    {
     "name": "stdout",
     "output_type": "stream",
     "text": [
      "# \n",
      "# # \n",
      "# # # \n",
      "# # # # \n",
      "# # # # # \n"
     ]
    }
   ],
   "execution_count": 61
  },
  {
   "cell_type": "markdown",
   "source": [
    "12. (13б) Гра \"Нумо вгадай\".\n",
    "Розробіть просту гру, де користувач має вгадати випадкове число від 1 до 100. Для генерації випадкового числа використовуйте функцію random.randint(a, b) (тут a та b включно). Для отримання числа з консолі використовуйте функцію input(), результат якої обовʼязково явно приведіть до типу int.\n",
    "\n",
    "Підказка: використовуйте цикл while та умови if-else, щоб повідомити користувачу піказки (напр. \"Більше\", \"Менше\") поки користувач не вгадає. По завершенню виведіть кількість спроб, які знадобилися для вгадування."
   ],
   "metadata": {
    "id": "_bd-bqAT8EHn"
   }
  },
  {
   "cell_type": "code",
   "source": [
    "import random\n",
    "\n",
    "def read_int(msg: str | None) -> int | None:\n",
    "    try:\n",
    "        return int(input(msg))\n",
    "    except ValueError:\n",
    "        print(\"Please enter an integer\")\n",
    "        return None\n",
    "\n",
    "def read_guess() -> int | None:\n",
    "    number = read_int(\"Please enter your guess: \")\n",
    "    if number is None:\n",
    "        return None\n",
    "    if number < 1 or number > 100:\n",
    "        print(\"Please enter a number between 1 and 100\")\n",
    "        return None\n",
    "    \n",
    "    return number\n",
    "\n",
    "target = random.randint(1, 100)\n",
    "guess = None\n",
    "try_count = 0\n",
    "\n",
    "print(\"Guess the number between 1 and 100!\")\n",
    "while guess != target:\n",
    "    guess = read_guess()\n",
    "    if guess is None:\n",
    "        continue\n",
    "    print(f\"{guess}\", end=' - ')\n",
    "    try_count += 1\n",
    "    \n",
    "    if target < guess:\n",
    "        print(\"Number is smaller\")\n",
    "    elif target > guess:\n",
    "        print(\"Number is larger\")\n",
    "\n",
    "print(f\"You correctly guessed the number {target} in {try_count} tries\")"
   ],
   "metadata": {
    "id": "IK9nnxFK8Hkl",
    "ExecuteTime": {
     "end_time": "2025-02-22T19:53:01.198162Z",
     "start_time": "2025-02-22T19:51:48.830518Z"
    }
   },
   "outputs": [
    {
     "name": "stdout",
     "output_type": "stream",
     "text": [
      "Guess the number between 1 and 100!\n",
      "50 - Number is larger\n",
      "75 - Number is smaller\n",
      "62 - Number is larger\n",
      "67 - You correctly guessed the number 67 in 4 tries\n"
     ]
    }
   ],
   "execution_count": 2
  },
  {
   "cell_type": "markdown",
   "source": "4# Вітаю! Ви велика(ий) молодець, що впоралась(вся). Похваліть себе та побалуйте чимось приємним. Я Вами пишаюся.",
   "metadata": {
    "id": "PXoXWb7Z8IGi"
   }
  }
 ]
}
