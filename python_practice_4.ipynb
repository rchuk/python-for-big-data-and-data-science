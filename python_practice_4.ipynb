{
 "nbformat": 4,
 "nbformat_minor": 0,
 "metadata": {
  "colab": {
   "provenance": []
  },
  "kernelspec": {
   "name": "python3",
   "display_name": "Python 3 (ipykernel)",
   "language": "python"
  },
  "language_info": {
   "name": "python"
  }
 },
 "cells": [
  {
   "cell_type": "markdown",
   "source": [
    "# I. Functions. Arguments."
   ],
   "metadata": {
    "id": "kXpppdVm6wFy"
   }
  },
  {
   "metadata": {
    "ExecuteTime": {
     "end_time": "2025-03-11T22:50:00.677820Z",
     "start_time": "2025-03-11T22:50:00.672965Z"
    }
   },
   "cell_type": "code",
   "source": "from typing import Any, Iterable",
   "outputs": [],
   "execution_count": 65
  },
  {
   "cell_type": "markdown",
   "source": [
    "1. (5б) Назвіть основні 4 смислові  частини, з яких складається функція."
   ],
   "metadata": {
    "id": "u_krJdlbAkVz"
   }
  },
  {
   "cell_type": "markdown",
   "source": [
    "Main parts of the function are:\n",
    "- Name - identifier to call the function\n",
    "- Argument list - arguments that function receives\n",
    "- Function body - main logic of the function\n",
    "- Return value - output of the function or `None`"
   ],
   "metadata": {
    "id": "KKTrTXmHAptb"
   }
  },
  {
   "cell_type": "markdown",
   "source": [
    "2. (3б) Визначте функцію, що приймає 2 аргументи та повертає результат ділення 1го аргумента на інший."
   ],
   "metadata": {
    "id": "ORM4PqJQAtDM"
   }
  },
  {
   "cell_type": "code",
   "metadata": {
    "id": "EuDx-z8M6sLo",
    "ExecuteTime": {
     "end_time": "2025-03-11T22:50:00.786231Z",
     "start_time": "2025-03-11T22:50:00.778366Z"
    }
   },
   "source": [
    "def div(a: Any, b: Any) -> Any:\n",
    "\treturn a / b\n",
    "\n",
    "print(div(10, 2))\n",
    "print(div(1, 2))"
   ],
   "outputs": [
    {
     "name": "stdout",
     "output_type": "stream",
     "text": [
      "5.0\n",
      "0.5\n"
     ]
    }
   ],
   "execution_count": 66
  },
  {
   "cell_type": "markdown",
   "source": [
    "3. (2б) Викличте вище визначену функцію, де другий аргумент дорівнює 0."
   ],
   "metadata": {
    "id": "5joQGQ-SAyMe"
   }
  },
  {
   "cell_type": "code",
   "source": "print(div(1, 0))",
   "metadata": {
    "id": "V5cBV1LOA3d-",
    "ExecuteTime": {
     "end_time": "2025-03-11T22:50:00.822436Z",
     "start_time": "2025-03-11T22:50:00.793254Z"
    }
   },
   "outputs": [
    {
     "ename": "ZeroDivisionError",
     "evalue": "division by zero",
     "output_type": "error",
     "traceback": [
      "\u001B[1;31m---------------------------------------------------------------------------\u001B[0m",
      "\u001B[1;31mZeroDivisionError\u001B[0m                         Traceback (most recent call last)",
      "Cell \u001B[1;32mIn[67], line 1\u001B[0m\n\u001B[1;32m----> 1\u001B[0m \u001B[38;5;28mprint\u001B[39m(\u001B[43mdiv\u001B[49m\u001B[43m(\u001B[49m\u001B[38;5;241;43m1\u001B[39;49m\u001B[43m,\u001B[49m\u001B[43m \u001B[49m\u001B[38;5;241;43m0\u001B[39;49m\u001B[43m)\u001B[49m)\n",
      "Cell \u001B[1;32mIn[66], line 2\u001B[0m, in \u001B[0;36mdiv\u001B[1;34m(a, b)\u001B[0m\n\u001B[0;32m      1\u001B[0m \u001B[38;5;28;01mdef\u001B[39;00m\u001B[38;5;250m \u001B[39m\u001B[38;5;21mdiv\u001B[39m(a: Any, b: Any) \u001B[38;5;241m-\u001B[39m\u001B[38;5;241m>\u001B[39m Any:\n\u001B[1;32m----> 2\u001B[0m \t\u001B[38;5;28;01mreturn\u001B[39;00m \u001B[43ma\u001B[49m\u001B[43m \u001B[49m\u001B[38;5;241;43m/\u001B[39;49m\u001B[43m \u001B[49m\u001B[43mb\u001B[49m\n",
      "\u001B[1;31mZeroDivisionError\u001B[0m: division by zero"
     ]
    }
   ],
   "execution_count": 67
  },
  {
   "cell_type": "markdown",
   "source": [
    "4. (4б) Перевизначте функцію так, щоби у випадку ділення на 0 функція повертала None, а в решті випадків - результат розрахунків."
   ],
   "metadata": {
    "id": "QyimWgW8A43-"
   }
  },
  {
   "cell_type": "code",
   "source": [
    "def div(a: Any, b: Any | None = None) -> Any | None:\n",
    "    if b == 0:\n",
    "        return None\n",
    "    \n",
    "    return a / b\n",
    "\n",
    "print(div(10, 2))\n",
    "print(div(1, 0))"
   ],
   "metadata": {
    "id": "7VIODtSjA8Ek",
    "ExecuteTime": {
     "end_time": "2025-03-11T22:50:00.832039Z",
     "start_time": "2025-03-11T22:50:00.825452Z"
    }
   },
   "outputs": [
    {
     "name": "stdout",
     "output_type": "stream",
     "text": [
      "5.0\n",
      "None\n"
     ]
    }
   ],
   "execution_count": 68
  },
  {
   "cell_type": "markdown",
   "source": [
    "5. (5б) Визначте функцію, що віднімає одне число від іншого (підказка: це буде 2 аргументи функції). При чому, якщо не визначити, скільки саме має бути віднято від числа, за замовчуванням має відніматися 1. Викличте функцію, передаючи тільки один аргумент."
   ],
   "metadata": {
    "id": "Y8mN0GfkA81l"
   }
  },
  {
   "cell_type": "code",
   "source": [
    "def sub(a: int | float, b: int | float | None = None) -> int | float:\n",
    "\treturn a - (b if b is not None else 1)\n",
    "\n",
    "print(sub(10, 9))\n",
    "print(sub(10))"
   ],
   "metadata": {
    "id": "vg1kxkdgBA50",
    "ExecuteTime": {
     "end_time": "2025-03-11T22:50:00.891879Z",
     "start_time": "2025-03-11T22:50:00.884589Z"
    }
   },
   "outputs": [
    {
     "name": "stdout",
     "output_type": "stream",
     "text": [
      "1\n",
      "9\n"
     ]
    }
   ],
   "execution_count": 69
  },
  {
   "cell_type": "markdown",
   "source": [
    "6. (7б) Визначте функцію, яка приймає iterable (ітерабельний обʼєкт, напр. список), що складається з 7ми рядкових значень - назв погодних умов (напр. \"sunny\") за кожен день у тижні. Повертає функція словник, де ключами є рядки з погодними умовами, а значеннями - кількість разів, скільки дана погода була протягом тижня (напр. {'sunny': 1, ...}). Викличте цю функцію та виведіть результат її роботи на екран."
   ],
   "metadata": {
    "id": "D3mwQGNOBBs4"
   }
  },
  {
   "metadata": {
    "ExecuteTime": {
     "end_time": "2025-03-11T22:50:00.939208Z",
     "start_time": "2025-03-11T22:50:00.930892Z"
    }
   },
   "cell_type": "code",
   "source": [
    "def group(items: Iterable[Any]) -> dict[Any, int]:\n",
    "\tcounts = {}\n",
    "\tfor item in items:\n",
    "\t\tcounts[item] = counts.get(item, 0) + 1\n",
    "\t\n",
    "\treturn counts\n",
    "\n",
    "print(group([\"sunny\", \"cloudy\", \"sunny\", \"rainy\", \"cloudy\", \"windy\"]))"
   ],
   "outputs": [
    {
     "name": "stdout",
     "output_type": "stream",
     "text": [
      "{'sunny': 2, 'cloudy': 2, 'rainy': 1, 'windy': 1}\n"
     ]
    }
   ],
   "execution_count": 70
  },
  {
   "cell_type": "markdown",
   "source": [
    "7. (15б) Напишіть програму, яка б шукала необхідне число у впорядкованому списку цілочислених значень, де\n",
    "число має вводитись з консолі.\n",
    "власне алгоритм пошуку винесений в окрему функцію, яка повертає булеве значення (знайдено число - True, не знайдено - False).\n",
    "в залежності від результату функції, виведіть на екран повідомлення про успішний або ж неуспішний пошук.\n",
    "Зауваження: використовувати оператор in заборонено."
   ],
   "metadata": {
    "id": "RMiCcdOsBKQT"
   }
  },
  {
   "cell_type": "code",
   "source": [
    "def contains(haystack: list[Any], needle: Any) -> bool:\n",
    "\tsize = len(haystack)\n",
    "\tmatch size:\n",
    "\t\tcase 0:\n",
    "\t\t\treturn False\n",
    "\t\tcase 1:\n",
    "\t\t\treturn haystack[0] == needle\n",
    "\t\tcase _:\n",
    "\t\t\tmid = size // 2\n",
    "\t\t\treturn contains(haystack[:mid], needle) or contains(haystack[mid:], needle)\n",
    "\n",
    "def test(haystack: list[Any], needle: Any) -> None:\n",
    "    print(f\"{haystack} contains {needle}? {contains(haystack, needle)}\")\n",
    "\n",
    "test([10, 20, 30, 40], 20)\n",
    "test([10, 20, 30, 40], 25)\n",
    "test([], 10)\n",
    "test([10], 10)\n",
    "test([10], 20)"
   ],
   "metadata": {
    "id": "UNCZg65OBOy-",
    "ExecuteTime": {
     "end_time": "2025-03-11T22:50:01.137206Z",
     "start_time": "2025-03-11T22:50:01.127079Z"
    }
   },
   "outputs": [
    {
     "name": "stdout",
     "output_type": "stream",
     "text": [
      "[10, 20, 30, 40] contains 20? True\n",
      "[10, 20, 30, 40] contains 25? False\n",
      "[] contains 10? False\n",
      "[10] contains 10? True\n",
      "[10] contains 20? False\n"
     ]
    }
   ],
   "execution_count": 71
  },
  {
   "cell_type": "markdown",
   "source": [
    "# II. Lambda functions."
   ],
   "metadata": {
    "id": "Ae1n_OvLBTsy"
   }
  },
  {
   "cell_type": "markdown",
   "source": [
    "8. (4б) В яких випадках варто використовувати лямбда-функції?"
   ],
   "metadata": {
    "id": "xaD_wSlaCWen"
   }
  },
  {
   "cell_type": "markdown",
   "source": "Lambda function should be used for functions that are simple and concise, for example to pass into filter and sort functions. They are also useful for defining callbacks. On the other hand they shouldn't be used for complex functions.",
   "metadata": {
    "id": "42MB6OoLCakR"
   }
  },
  {
   "cell_type": "markdown",
   "source": [
    "9. (9б) Визначте список з рядками. Після цього визначте анонімну функцію для отримання першого символу у верхньому регістрі для кожного рядка списку.\n",
    "Підказка: використовуйте анонімну функцію в якості агрумента до вбудованої ф-ції, яка створена для застосування функцій над iterable обʼєктами. Результат виведіть на екран у вигляді кортежу."
   ],
   "metadata": {
    "id": "USrzrk7GCedk"
   }
  },
  {
   "cell_type": "code",
   "source": [
    "items = [\"hello\", \"world\", \"\", \"123\", \"What\", \"___\"]\n",
    "\n",
    "# Using indexing like this instead of `s[0]` avoids index error on empty string\n",
    "result = map(lambda s: s[:1].upper(), items)\n",
    "print(list(result))"
   ],
   "metadata": {
    "id": "M8QWUsMlCjWH",
    "ExecuteTime": {
     "end_time": "2025-03-11T22:50:01.208338Z",
     "start_time": "2025-03-11T22:50:01.201743Z"
    }
   },
   "outputs": [
    {
     "name": "stdout",
     "output_type": "stream",
     "text": [
      "['H', 'W', '', '1', 'W', '_']\n"
     ]
    }
   ],
   "execution_count": 72
  },
  {
   "cell_type": "markdown",
   "source": [
    "10. (10б) Визначте список з числовими значеннями (і цілими, і з рухомою комою). а) Відфільтруйте всі числа, які діляться націло на 3 за допомогою вбудованої функції та анонімної функції в якості аргумента). Збережіть результат у змінній, не приводяти явно до будь-якого типу. б) Використовуючи результат на кроці 12.а у якості аргументу, та за допомогою лямбда-функції в якості іншого аргументу до вбудованої функції, додайте до кожного елементу число 1 та опісля зведіть у квадрат. Остаточний результат приведіть явно до списку та виведіть на екран."
   ],
   "metadata": {
    "id": "9fyUhXOoCtGp"
   }
  },
  {
   "cell_type": "code",
   "source": [
    "items = [3, 5, 30, 7, 12, 15, 25, 100]\n",
    "div3 = filter(lambda x: x % 3 == 0, items)\n",
    "add1 = map(lambda x: (x + 1) ** 2, div3)\n",
    "result = list(add1)\n",
    "print(result)"
   ],
   "metadata": {
    "id": "exEx2_okCsql",
    "ExecuteTime": {
     "end_time": "2025-03-11T22:50:01.295762Z",
     "start_time": "2025-03-11T22:50:01.287897Z"
    }
   },
   "outputs": [
    {
     "name": "stdout",
     "output_type": "stream",
     "text": [
      "[16, 961, 169, 256]\n"
     ]
    }
   ],
   "execution_count": 73
  },
  {
   "cell_type": "markdown",
   "source": [
    "# III. Decorators."
   ],
   "metadata": {
    "id": "o_x8cG_WC7jp"
   }
  },
  {
   "cell_type": "markdown",
   "source": [
    "11. (11б) Визначте декоратор, який би виводив у консоль повідомлення про початок роботи і назву функції (напр. my_function._ _ name _ _), а після відпрацювання функції - повідомлення про закінчення роботи і назву функції, що задекорована."
   ],
   "metadata": {
    "id": "mhxS4-mfC8LQ"
   }
  },
  {
   "cell_type": "code",
   "source": [
    "def trace(func):\n",
    "\tdef wrap(*args, **kwargs):\n",
    "\t\tprint(\"Before calling\", func.__name__)\n",
    "\t\tres = func(*args, **kwargs)\n",
    "\t\tprint(\"After calling\", func.__name__)\n",
    "\t\treturn res\n",
    "\t\n",
    "\treturn wrap"
   ],
   "metadata": {
    "id": "srd1ygWjDGhO",
    "ExecuteTime": {
     "end_time": "2025-03-11T22:50:01.377345Z",
     "start_time": "2025-03-11T22:50:01.371965Z"
    }
   },
   "outputs": [],
   "execution_count": 74
  },
  {
   "cell_type": "markdown",
   "source": [
    "12. (4б) Задекоруйте двома різними способами функції з завдання 4 та 5 декоратором із завдання 11. (**УВАГА**: не декоруйте функції двічі!)."
   ],
   "metadata": {
    "id": "rxGZwVBiDph3"
   }
  },
  {
   "cell_type": "code",
   "source": [
    "@trace\n",
    "def div1(a: Any, b: Any | None = None) -> Any | None:\n",
    "    if b == 0:\n",
    "        return None\n",
    "    \n",
    "    return a / b\n",
    "\n",
    "sub = trace(sub)"
   ],
   "metadata": {
    "id": "06lj7eq_DwZe",
    "ExecuteTime": {
     "end_time": "2025-03-11T22:50:01.457952Z",
     "start_time": "2025-03-11T22:50:01.452378Z"
    }
   },
   "outputs": [],
   "execution_count": 75
  },
  {
   "cell_type": "markdown",
   "source": [
    "13. (2б) Викличте одну з задекорованих функцій і виведіть її результат на екран."
   ],
   "metadata": {
    "id": "P0ep1urBDzf-"
   }
  },
  {
   "cell_type": "code",
   "source": [
    "print(div1(10, 2))\n",
    "print(sub(10, 9))"
   ],
   "metadata": {
    "id": "1QvTw0ctD0S3",
    "ExecuteTime": {
     "end_time": "2025-03-11T22:50:01.471868Z",
     "start_time": "2025-03-11T22:50:01.463969Z"
    }
   },
   "outputs": [
    {
     "name": "stdout",
     "output_type": "stream",
     "text": [
      "Before calling div1\n",
      "After calling div1\n",
      "5.0\n",
      "Before calling sub\n",
      "After calling sub\n",
      "1\n"
     ]
    }
   ],
   "execution_count": 76
  },
  {
   "cell_type": "markdown",
   "source": [
    "# IV. Recursion."
   ],
   "metadata": {
    "id": "poECCpuoD2S9"
   }
  },
  {
   "cell_type": "markdown",
   "source": [
    "14. (4б) Назвіть дві частини функції, які є обовʼязковими для того, щоб називати її рекурсивною."
   ],
   "metadata": {
    "id": "DqkURfdsD7MY"
   }
  },
  {
   "cell_type": "markdown",
   "source": "A recursive function must have recursive case - the one that calls the function itself with some arguments and base case, which allows to stop the recursion when some condition is met. Without the base case, recursion would be infinite.",
   "metadata": {
    "id": "HYW6ttIeIQIU"
   }
  },
  {
   "cell_type": "markdown",
   "source": [
    "15. (15б) Визначте функцію, яка рекурсивно реалізовує пошук числа у послідовності Фібоначчі за її індексом (нумерація починається з нуля). Наприклад, потрібно знайти перше число у послідовності, тоді функція прийматиме 0 у якості аргумента і повертатиме 1, якщо ж знаходити третє число (індекс 2) послідовності, то функція повертатиме 2, якщо ж знаходити десяте число (індекс 9), то функція повертатиме 55."
   ],
   "metadata": {
    "id": "WYVt20UmEA35"
   }
  },
  {
   "cell_type": "code",
   "source": [
    "def fib(n: int) -> int:\n",
    "\tmatch n:\n",
    "\t\tcase 0 | 1:\n",
    "\t\t\treturn 1\n",
    "\t\tcase _:\n",
    "\t\t\treturn fib(n - 1) + fib(n - 2)\n",
    "\n",
    "print(list(map(fib, range(0, 11))))"
   ],
   "metadata": {
    "id": "xIMhp05AIpV_",
    "ExecuteTime": {
     "end_time": "2025-03-11T22:50:01.505203Z",
     "start_time": "2025-03-11T22:50:01.497882Z"
    }
   },
   "outputs": [
    {
     "name": "stdout",
     "output_type": "stream",
     "text": [
      "[1, 1, 2, 3, 5, 8, 13, 21, 34, 55, 89]\n"
     ]
    }
   ],
   "execution_count": 77
  },
  {
   "cell_type": "markdown",
   "source": [
    "# Вітаю! Ви велика(ий) молодець, що впоралась(вся). Похваліть себе та побалуйте чимось приємним. Я Вами пишаюся."
   ],
   "metadata": {
    "id": "ytXC8n_4Ip0W"
   }
  }
 ]
}
