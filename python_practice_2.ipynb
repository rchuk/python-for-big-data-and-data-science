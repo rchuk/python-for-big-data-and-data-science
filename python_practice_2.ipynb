{
 "nbformat": 4,
 "nbformat_minor": 0,
 "metadata": {
  "colab": {
   "provenance": []
  },
  "kernelspec": {
   "name": "python3",
   "display_name": "Python 3 (ipykernel)",
   "language": "python"
  },
  "language_info": {
   "name": "python"
  }
 },
 "cells": [
  {
   "cell_type": "markdown",
   "source": [
    "# I. Змінні та памʼять."
   ],
   "metadata": {
    "id": "p9wwt0LZzNvn"
   }
  },
  {
   "cell_type": "markdown",
   "source": [
    "1. Створити змінні, що посилаються на два цілих числа, що однакові за значенням, де значення належить проміжку від -5 до 256. Перевірте, чи будуть ці змінні рівні тільки за значенням або ж ще будуть посилатися на один і той самий обʼєкт в памʼяті? Наведіть код та дайте текстову відповідь нижче."
   ],
   "metadata": {
    "id": "HTJrrm95xSV9"
   }
  },
  {
   "cell_type": "code",
   "metadata": {
    "id": "TATni2vzayjG",
    "ExecuteTime": {
     "end_time": "2025-02-22T16:19:05.667924Z",
     "start_time": "2025-02-22T16:19:05.659758Z"
    }
   },
   "source": [
    "a = -4\n",
    "b = -4\n",
    "print(\"Does a == b?\", a == b)\n",
    "print(\"Does a and b refer to the same address?\", a is b)\n",
    "\n",
    "print(\"Confirming that range [-5; 256] is really correct:\")\n",
    "min_number = -20\n",
    "max_number = 280\n",
    "numbers = zip(range(min_number, max_number), range(min_number, max_number))\n",
    "fmt = list(map(lambda x: f\"{x[0]}: {'Y' if x[0] is x[1] else 'N'}\", numbers))\n",
    "print(fmt)"
   ],
   "outputs": [
    {
     "name": "stdout",
     "output_type": "stream",
     "text": [
      "Does a == b? True\n",
      "Does a and b refer to the same address? True\n",
      "Confirming that range [-5; 256] is really correct:\n",
      "['-20: N', '-19: N', '-18: N', '-17: N', '-16: N', '-15: N', '-14: N', '-13: N', '-12: N', '-11: N', '-10: N', '-9: N', '-8: N', '-7: N', '-6: N', '-5: Y', '-4: Y', '-3: Y', '-2: Y', '-1: Y', '0: Y', '1: Y', '2: Y', '3: Y', '4: Y', '5: Y', '6: Y', '7: Y', '8: Y', '9: Y', '10: Y', '11: Y', '12: Y', '13: Y', '14: Y', '15: Y', '16: Y', '17: Y', '18: Y', '19: Y', '20: Y', '21: Y', '22: Y', '23: Y', '24: Y', '25: Y', '26: Y', '27: Y', '28: Y', '29: Y', '30: Y', '31: Y', '32: Y', '33: Y', '34: Y', '35: Y', '36: Y', '37: Y', '38: Y', '39: Y', '40: Y', '41: Y', '42: Y', '43: Y', '44: Y', '45: Y', '46: Y', '47: Y', '48: Y', '49: Y', '50: Y', '51: Y', '52: Y', '53: Y', '54: Y', '55: Y', '56: Y', '57: Y', '58: Y', '59: Y', '60: Y', '61: Y', '62: Y', '63: Y', '64: Y', '65: Y', '66: Y', '67: Y', '68: Y', '69: Y', '70: Y', '71: Y', '72: Y', '73: Y', '74: Y', '75: Y', '76: Y', '77: Y', '78: Y', '79: Y', '80: Y', '81: Y', '82: Y', '83: Y', '84: Y', '85: Y', '86: Y', '87: Y', '88: Y', '89: Y', '90: Y', '91: Y', '92: Y', '93: Y', '94: Y', '95: Y', '96: Y', '97: Y', '98: Y', '99: Y', '100: Y', '101: Y', '102: Y', '103: Y', '104: Y', '105: Y', '106: Y', '107: Y', '108: Y', '109: Y', '110: Y', '111: Y', '112: Y', '113: Y', '114: Y', '115: Y', '116: Y', '117: Y', '118: Y', '119: Y', '120: Y', '121: Y', '122: Y', '123: Y', '124: Y', '125: Y', '126: Y', '127: Y', '128: Y', '129: Y', '130: Y', '131: Y', '132: Y', '133: Y', '134: Y', '135: Y', '136: Y', '137: Y', '138: Y', '139: Y', '140: Y', '141: Y', '142: Y', '143: Y', '144: Y', '145: Y', '146: Y', '147: Y', '148: Y', '149: Y', '150: Y', '151: Y', '152: Y', '153: Y', '154: Y', '155: Y', '156: Y', '157: Y', '158: Y', '159: Y', '160: Y', '161: Y', '162: Y', '163: Y', '164: Y', '165: Y', '166: Y', '167: Y', '168: Y', '169: Y', '170: Y', '171: Y', '172: Y', '173: Y', '174: Y', '175: Y', '176: Y', '177: Y', '178: Y', '179: Y', '180: Y', '181: Y', '182: Y', '183: Y', '184: Y', '185: Y', '186: Y', '187: Y', '188: Y', '189: Y', '190: Y', '191: Y', '192: Y', '193: Y', '194: Y', '195: Y', '196: Y', '197: Y', '198: Y', '199: Y', '200: Y', '201: Y', '202: Y', '203: Y', '204: Y', '205: Y', '206: Y', '207: Y', '208: Y', '209: Y', '210: Y', '211: Y', '212: Y', '213: Y', '214: Y', '215: Y', '216: Y', '217: Y', '218: Y', '219: Y', '220: Y', '221: Y', '222: Y', '223: Y', '224: Y', '225: Y', '226: Y', '227: Y', '228: Y', '229: Y', '230: Y', '231: Y', '232: Y', '233: Y', '234: Y', '235: Y', '236: Y', '237: Y', '238: Y', '239: Y', '240: Y', '241: Y', '242: Y', '243: Y', '244: Y', '245: Y', '246: Y', '247: Y', '248: Y', '249: Y', '250: Y', '251: Y', '252: Y', '253: Y', '254: Y', '255: Y', '256: Y', '257: N', '258: N', '259: N', '260: N', '261: N', '262: N', '263: N', '264: N', '265: N', '266: N', '267: N', '268: N', '269: N', '270: N', '271: N', '272: N', '273: N', '274: N', '275: N', '276: N', '277: N', '278: N', '279: N']\n"
     ]
    }
   ],
   "execution_count": 8
  },
  {
   "cell_type": "markdown",
   "source": [
    "In Python integers are immutable. Considering that values from range [-5; 256] are widely used, they are interned in order to conserve memory. It also allows them to be compared by address.\n",
    "\n",
    "(Although I must note that the range seems quite arbitrary. For example in the JDK source code we can see that values [-128; 127] are cached)"
   ],
   "metadata": {
    "id": "zfRG_o3WbRdg"
   }
  },
  {
   "cell_type": "markdown",
   "source": [
    "2. За допомогою якої функції можна перевірити належність змінної до вказаного типу даних (напр. чи змінна True посилається на значення булевого та цілочисленого типу)?"
   ],
   "metadata": {
    "id": "ISORzt6M3vAt"
   }
  },
  {
   "cell_type": "code",
   "source": [
    "from types import NoneType\n",
    "\n",
    "integer = 666\n",
    "boolean = True\n",
    "floating = 42.42\n",
    "none = None\n",
    "\n",
    "print(f\"Is {integer} integer?\", isinstance(integer, int))\n",
    "print(f\"Is {boolean} boolean\", isinstance(boolean, bool))\n",
    "print(f\"Is {floating} float\", isinstance(floating, float))\n",
    "\n",
    "print(f\"Is {integer} float?\", isinstance(integer, float))\n",
    "print(f\"Is {boolean} integer?\", isinstance(boolean, int))\n",
    "print(f\"Is {floating} boolean?\", isinstance(floating, bool))\n",
    "\n",
    "print(f\"Is {none} none?\", isinstance(none, NoneType))\n",
    "print(f\"Is {integer} none?\", isinstance(integer, NoneType))"
   ],
   "metadata": {
    "id": "9vL9CFaMbfyo",
    "ExecuteTime": {
     "end_time": "2025-02-22T16:19:05.844731Z",
     "start_time": "2025-02-22T16:19:05.835511Z"
    }
   },
   "outputs": [
    {
     "name": "stdout",
     "output_type": "stream",
     "text": [
      "Is 666 integer? True\n",
      "Is True boolean True\n",
      "Is 42.42 float True\n",
      "Is 666 float? False\n",
      "Is True integer? True\n",
      "Is 42.42 boolean? False\n",
      "Is None none? True\n",
      "Is 666 none? False\n"
     ]
    }
   ],
   "execution_count": 9
  },
  {
   "cell_type": "markdown",
   "source": [
    "# II. Цілі числа та числа з рухомою комою"
   ],
   "metadata": {
    "id": "tRxugKAxwYLw"
   }
  },
  {
   "cell_type": "markdown",
   "source": [
    "3. Створити дві змінні, що посилаються на будь-які ціле число та число з рухомою комою та продемонструвати такі арифметичні операції: додавання, віднімання, ділення, множення, ділення без залишку, ділення по модулю, приведення до ступеню. Всі результати операцій вивести на екран."
   ],
   "metadata": {
    "id": "NLHkgd5Gybc8"
   }
  },
  {
   "cell_type": "code",
   "source": [
    "a = 10\n",
    "b = 0.5\n",
    "\n",
    "print(\"a =\", a)\n",
    "print(\"b =\", b)\n",
    "\n",
    "print(\"a + b =\", a + b)\n",
    "print(\"a - b =\", a - b)\n",
    "print(\"a / b =\", a / b)\n",
    "print(\"a * b =\", a * b)\n",
    "\n",
    "print(\"a / 3 =\", a / 3)\n",
    "print(\"a // 3 =\", a // 3)\n",
    "print(\"a % 3 =\", a % 3)\n",
    "\n",
    "print(\"b^2 = \", b ** 2)"
   ],
   "metadata": {
    "id": "nb8u_3pjb2cA",
    "ExecuteTime": {
     "end_time": "2025-02-22T16:19:05.868767Z",
     "start_time": "2025-02-22T16:19:05.855756Z"
    }
   },
   "outputs": [
    {
     "name": "stdout",
     "output_type": "stream",
     "text": [
      "a = 10\n",
      "b = 0.5\n",
      "a + b = 10.5\n",
      "a - b = 9.5\n",
      "a / b = 20.0\n",
      "a * b = 5.0\n",
      "a / 3 = 3.3333333333333335\n",
      "a // 3 = 3\n",
      "a % 3 = 1\n",
      "b^2 =  0.25\n"
     ]
    }
   ],
   "execution_count": 10
  },
  {
   "cell_type": "markdown",
   "source": [
    "4. Використовуючи змінні з вправи 3, продемонструйте механізм явного перетворення типів, де числа з рухомою комою перетворюються на цілі числа. Також визначте змінну, що посилається на значення булевого типу і спробуйте явно привести її до цілого числа."
   ],
   "metadata": {
    "id": "1kBClKgPzZnC"
   }
  },
  {
   "cell_type": "code",
   "source": [
    "print(f\"{b} as integer: {int(b)}\")\n",
    "print(\"2.5 as integer\", int(2.5))\n",
    "print(\"2.0 as integer\", int(2.0))\n",
    "\n",
    "true = True\n",
    "print(f\"{true} as integer: {int(true)}\")\n",
    "false = False\n",
    "print(f\"{false} as integer: {int(false)}\")"
   ],
   "metadata": {
    "id": "TbqJbkeUcKsD",
    "ExecuteTime": {
     "end_time": "2025-02-22T16:19:05.922557Z",
     "start_time": "2025-02-22T16:19:05.915797Z"
    }
   },
   "outputs": [
    {
     "name": "stdout",
     "output_type": "stream",
     "text": [
      "0.5 as integer: 0\n",
      "2.5 as integer 2\n",
      "2.0 as integer 2\n",
      "True as integer: 1\n",
      "False as integer: 0\n"
     ]
    }
   ],
   "execution_count": 11
  },
  {
   "cell_type": "markdown",
   "source": [
    "# IІІ. Рядки (String)."
   ],
   "metadata": {
    "id": "EVJ7AflwxrZi"
   }
  },
  {
   "cell_type": "markdown",
   "source": "5. Створити пустий рядок двома різними способами.",
   "metadata": {
    "id": "_s5ECzz9zE61"
   }
  },
  {
   "cell_type": "code",
   "source": [
    "a = \"\"\n",
    "b = str()\n",
    "\n",
    "print(a)\n",
    "print(b)"
   ],
   "metadata": {
    "id": "fkZJHu9Scvc-",
    "ExecuteTime": {
     "end_time": "2025-02-22T16:19:06.001788Z",
     "start_time": "2025-02-22T16:19:05.992098Z"
    }
   },
   "outputs": [
    {
     "name": "stdout",
     "output_type": "stream",
     "text": [
      "\n",
      "\n"
     ]
    }
   ],
   "execution_count": 12
  },
  {
   "cell_type": "markdown",
   "source": [
    "6. Створити рядок з апострофом. Зробити його сирим. Вивести обидва рядка на екран."
   ],
   "metadata": {
    "id": "4Bdn9J3MzLf_"
   }
  },
  {
   "cell_type": "code",
   "source": [
    "a = 'Лук\\'янівка'\n",
    "b = r'Лук\\'янівка'\n",
    "\n",
    "print(a)\n",
    "print(b)"
   ],
   "metadata": {
    "id": "ivji_hsmc0GH",
    "ExecuteTime": {
     "end_time": "2025-02-22T16:19:06.083197Z",
     "start_time": "2025-02-22T16:19:06.076317Z"
    }
   },
   "outputs": [
    {
     "name": "stdout",
     "output_type": "stream",
     "text": [
      "Лук'янівка\n",
      "Лук\\'янівка\n"
     ]
    }
   ],
   "execution_count": 13
  },
  {
   "cell_type": "markdown",
   "source": [
    "7. Створити змінну, що буде посилатися на Ваше прізвище латинкою. Створити форматований рядок, який буде мати вигляд \"My surname is ______\", де на місці нижніх підкреслень буде Ваше прізвище зі змінної."
   ],
   "metadata": {
    "id": "bg_d8wM4z8dS"
   }
  },
  {
   "cell_type": "code",
   "source": [
    "surname = \"Omelchuk\"\n",
    "fmt = f\"My surname is {surname}\"\n",
    "\n",
    "print(fmt)"
   ],
   "metadata": {
    "id": "kuxFgpWndACq",
    "ExecuteTime": {
     "end_time": "2025-02-22T16:19:06.144559Z",
     "start_time": "2025-02-22T16:19:06.136086Z"
    }
   },
   "outputs": [
    {
     "name": "stdout",
     "output_type": "stream",
     "text": [
      "My surname is Omelchuk\n"
     ]
    }
   ],
   "execution_count": 14
  },
  {
   "cell_type": "markdown",
   "source": [
    "8. Маючи рядок \"My dog is crazy.\" перетворити його на список [\"my\", \"dog\", \"is\", \"crazy\"]"
   ],
   "metadata": {
    "id": "1Nc6RqvQ0hxU"
   }
  },
  {
   "cell_type": "code",
   "source": [
    "string = \"My dog is crazy\"\n",
    "result = list(map(str.lower, string.split()))\n",
    "\n",
    "print(string)\n",
    "print(result)"
   ],
   "metadata": {
    "id": "w1Ya4RqedUhw",
    "ExecuteTime": {
     "end_time": "2025-02-22T16:19:06.225242Z",
     "start_time": "2025-02-22T16:19:06.216561Z"
    }
   },
   "outputs": [
    {
     "name": "stdout",
     "output_type": "stream",
     "text": [
      "My dog is crazy\n",
      "['my', 'dog', 'is', 'crazy']\n"
     ]
    }
   ],
   "execution_count": 15
  },
  {
   "cell_type": "markdown",
   "source": [
    "# IV. Робота зі списками."
   ],
   "metadata": {
    "id": "GYVqN9uP1D4n"
   }
  },
  {
   "cell_type": "markdown",
   "source": [
    "9. Створити список двома різними за синтаксисом способами. За допомогою вбудованої функції обчисліть довжину одного з них."
   ],
   "metadata": {
    "id": "7-DeDunw2sO-"
   }
  },
  {
   "cell_type": "code",
   "source": [
    "a = [1, 2, 3, 4, 5]\n",
    "b = list((1, 2, 3, 4, 5))\n",
    "\n",
    "print(\"Length of a:\", len(a))\n",
    "print(\"Length of b:\", len(b))"
   ],
   "metadata": {
    "id": "zxg06Uuxdyoh",
    "ExecuteTime": {
     "end_time": "2025-02-22T16:19:06.268571Z",
     "start_time": "2025-02-22T16:19:06.260771Z"
    }
   },
   "outputs": [
    {
     "name": "stdout",
     "output_type": "stream",
     "text": [
      "Length of a: 5\n",
      "Length of b: 5\n"
     ]
    }
   ],
   "execution_count": 16
  },
  {
   "cell_type": "markdown",
   "source": [
    "10. Створіть два списка та за допомогою спеціального методу додайте другий з них в якості останнього елемента першого."
   ],
   "metadata": {
    "id": "8vmGUTjL22gI"
   }
  },
  {
   "cell_type": "code",
   "source": [
    "a = [\"1\", \"2\", \"3\"]\n",
    "b = [\"4\", \"5\", \"6\"]\n",
    "\n",
    "print(a)\n",
    "print(b)\n",
    "\n",
    "a.append(b)\n",
    "print(a)"
   ],
   "metadata": {
    "id": "uHtjWYw7d7hm",
    "ExecuteTime": {
     "end_time": "2025-02-22T16:19:06.338219Z",
     "start_time": "2025-02-22T16:19:06.330087Z"
    }
   },
   "outputs": [
    {
     "name": "stdout",
     "output_type": "stream",
     "text": [
      "['1', '2', '3']\n",
      "['4', '5', '6']\n",
      "['1', '2', '3', ['4', '5', '6']]\n"
     ]
    }
   ],
   "execution_count": 17
  },
  {
   "cell_type": "markdown",
   "source": [
    "11. Створіть список, де елементами цього списку також є списки. Отримай перший елемент з останнього рядка та виведи значення на екран."
   ],
   "metadata": {
    "id": "JC3BkD-67_--"
   }
  },
  {
   "cell_type": "code",
   "source": [
    "items = [\n",
    "    [ \"0.0\", \"0.1\", \"0.2\", \"0.3\" ],\n",
    "\t[ \"1.0\", \"1.1\", \"1.2\" ],\n",
    "\t[ \"2.0\", \"2.1\", \"2.2\", \"2.3\", \"2.4\" ]\n",
    "]\n",
    "\n",
    "print(items[-1][0])"
   ],
   "metadata": {
    "id": "Kz2jZHsGeLlz",
    "ExecuteTime": {
     "end_time": "2025-02-22T16:19:06.378200Z",
     "start_time": "2025-02-22T16:19:06.369760Z"
    }
   },
   "outputs": [
    {
     "name": "stdout",
     "output_type": "stream",
     "text": [
      "2.0\n"
     ]
    }
   ],
   "execution_count": 18
  },
  {
   "cell_type": "markdown",
   "source": [
    "12. Створіть список з десяти елементів різного типу. Отримайте всі елементи, окрім двох перших та двох останніх та збережіть їх в новій змінній."
   ],
   "metadata": {
    "id": "JA47PKTv8zFK"
   }
  },
  {
   "cell_type": "code",
   "source": [
    "items = [\"1\", 2, None, [\"4\"], True, 6, False, {}, 9, \"10\"]\n",
    "result = items[2:-2]\n",
    "\n",
    "print(items)\n",
    "print(result)"
   ],
   "metadata": {
    "id": "_rHdUR-ueP4-",
    "ExecuteTime": {
     "end_time": "2025-02-22T16:19:06.429364Z",
     "start_time": "2025-02-22T16:19:06.421432Z"
    }
   },
   "outputs": [
    {
     "name": "stdout",
     "output_type": "stream",
     "text": [
      "['1', 2, None, ['4'], True, 6, False, {}, 9, '10']\n",
      "[None, ['4'], True, 6, False, {}]\n"
     ]
    }
   ],
   "execution_count": 19
  },
  {
   "cell_type": "markdown",
   "source": [
    "# V. Робота з кортежами."
   ],
   "metadata": {
    "id": "pCjR1dJb1Qbi"
   }
  },
  {
   "cell_type": "markdown",
   "source": [
    "14. Створити кортеж з один елементом."
   ],
   "metadata": {
    "id": "fAZCxAX06R_k"
   }
  },
  {
   "cell_type": "code",
   "source": [
    "items = (\"Hello, world!\",)\n",
    "print(items)"
   ],
   "metadata": {
    "id": "H7d82WkQev3e",
    "ExecuteTime": {
     "end_time": "2025-02-22T16:19:06.457803Z",
     "start_time": "2025-02-22T16:19:06.450567Z"
    }
   },
   "outputs": [
    {
     "name": "stdout",
     "output_type": "stream",
     "text": [
      "('Hello, world!',)\n"
     ]
    }
   ],
   "execution_count": 20
  },
  {
   "cell_type": "markdown",
   "source": [
    "15. Порівняйте список та кортеж. Назвіть схожості та відмінності, випадки використання."
   ],
   "metadata": {
    "id": "8LCtYcmI6w1M"
   }
  },
  {
   "cell_type": "markdown",
   "source": [
    "Both list and tuple store sequence of elements. Items can be accessed using index, iterator, slicing. Considering python's dynamic typing, both may store values of different types, unlike in many other languages.\n",
    "The main difference being that the tuple is an immutable data structure. So tuples are best suited for returning multiples values from a function, as keys in the dictionary, or for data that doesn't need to change."
   ],
   "metadata": {
    "id": "fUsN1Hnue0C6"
   }
  },
  {
   "cell_type": "markdown",
   "source": [
    "16. Створіть кортеж з 11ти елементів чисел з рухомою комою та отримайте кожен парний за індексом елемент в зворотньому порядку. Наприклад, маючи (1.2, 2.3, 3.3, 4.3, 5.3, 6.3, 7.3, 8.3, 9.3, 0.3), отримати (0.3, 8.3, 6.3, 4.3, 2.3). Результат збережіть в нову змінну та виведіть на екран."
   ],
   "metadata": {
    "id": "m0xrwFijAmDD"
   }
  },
  {
   "cell_type": "code",
   "source": [
    "items = (1.2, 2.3, 3.3, 4.3, 5.3, 6.3, 7.3, 8.3, 9.3, 0.3)\n",
    "\n",
    "idx = reversed(range(1, len(items), 2))\n",
    "result = list(map(items.__getitem__, idx))\n",
    "print(result)"
   ],
   "metadata": {
    "id": "p-5DAH6XfAGA",
    "ExecuteTime": {
     "end_time": "2025-02-22T16:19:06.538941Z",
     "start_time": "2025-02-22T16:19:06.530831Z"
    }
   },
   "outputs": [
    {
     "name": "stdout",
     "output_type": "stream",
     "text": [
      "[0.3, 8.3, 6.3, 4.3, 2.3]\n"
     ]
    }
   ],
   "execution_count": 21
  },
  {
   "cell_type": "markdown",
   "source": [
    "# VI. Множини (Set)."
   ],
   "metadata": {
    "id": "rW_I9dt3x6cW"
   }
  },
  {
   "cell_type": "markdown",
   "source": [
    "17. Створити множину без елементів. Після цого за допомогою методу додайте кілька різних елементів до множини. Чи множини є змінним типом даних?"
   ],
   "metadata": {
    "id": "zNjRLHLw1Bgg"
   }
  },
  {
   "cell_type": "code",
   "source": [
    "items = set()\n",
    "print(items)\n",
    "\n",
    "items.add(\"1\")\n",
    "print(items)\n",
    "\n",
    "items.add(\"2\")\n",
    "print(items)"
   ],
   "metadata": {
    "id": "KOv7zc2Kfo4N",
    "ExecuteTime": {
     "end_time": "2025-02-22T16:19:06.591437Z",
     "start_time": "2025-02-22T16:19:06.582470Z"
    }
   },
   "outputs": [
    {
     "name": "stdout",
     "output_type": "stream",
     "text": [
      "set()\n",
      "{'1'}\n",
      "{'1', '2'}\n"
     ]
    }
   ],
   "execution_count": 22
  },
  {
   "cell_type": "markdown",
   "source": "Python sets are mutable, although standard library also contains its immutable counterpart - `frozenset`.",
   "metadata": {
    "id": "vxS6dVYiftZQ"
   }
  },
  {
   "cell_type": "markdown",
   "source": [
    "18. Створити множину, маючи список my_list = [1, 1, 2, 67, 67, 8, 9]. Пояснити, чому \"зникли\" деякі елементи."
   ],
   "metadata": {
    "id": "gHpT0Zw_1HEF"
   }
  },
  {
   "cell_type": "code",
   "source": [
    "my_list = [1, 1, 2, 67, 67, 8, 9]\n",
    "print(my_list)\n",
    "\n",
    "my_set = set(my_list)\n",
    "print(my_set)"
   ],
   "metadata": {
    "id": "qCN4uvJ_fxmu",
    "ExecuteTime": {
     "end_time": "2025-02-22T16:19:06.646724Z",
     "start_time": "2025-02-22T16:19:06.638964Z"
    }
   },
   "outputs": [
    {
     "name": "stdout",
     "output_type": "stream",
     "text": [
      "[1, 1, 2, 67, 67, 8, 9]\n",
      "{1, 2, 67, 8, 9}\n"
     ]
    }
   ],
   "execution_count": 23
  },
  {
   "cell_type": "markdown",
   "source": "Set is a data structure that doesn't store duplicates, so they \"disappeared\" ¯\\\\_(ツ)_/¯",
   "metadata": {
    "id": "tFNc1e20fyny"
   }
  },
  {
   "cell_type": "markdown",
   "source": [
    "19. Створіть дві множини. Продемонстуйте над ними операції: обʼєднання, різниці, пересічі та симетричної різниці. Використовуйте методи, що не змінюють множини, а створюють нові."
   ],
   "metadata": {
    "id": "SRMkGizS1UwY"
   }
  },
  {
   "cell_type": "code",
   "source": [
    "a = { 1, 2, 3, 4, 5 }\n",
    "b = { 4, 5, 6, 7, 8 }\n",
    "\n",
    "print(\"a =\", a)\n",
    "print(\"b =\", b)\n",
    "# These operators are just syntactic sugar for set methods\n",
    "# such as `union`, `intersection`, etc.\n",
    "print(\"a ∪ b =\", a | b)\n",
    "print(\"a ∩ b =\", a & b)\n",
    "print(\"a \\ b -\", a - b)\n",
    "print(\"b \\ a =\", b - a)\n",
    "print(\"a Δ b =\", a ^ b)"
   ],
   "metadata": {
    "id": "h0T-VuDnf3Ri",
    "ExecuteTime": {
     "end_time": "2025-02-22T16:19:06.697590Z",
     "start_time": "2025-02-22T16:19:06.686735Z"
    }
   },
   "outputs": [
    {
     "name": "stdout",
     "output_type": "stream",
     "text": [
      "a = {1, 2, 3, 4, 5}\n",
      "b = {4, 5, 6, 7, 8}\n",
      "a ∪ b = {1, 2, 3, 4, 5, 6, 7, 8}\n",
      "a ∩ b = {4, 5}\n",
      "a \\ b - {1, 2, 3}\n",
      "b \\ a = {8, 6, 7}\n",
      "a Δ b = {1, 2, 3, 6, 7, 8}\n"
     ]
    }
   ],
   "execution_count": 24
  },
  {
   "cell_type": "markdown",
   "source": [
    "# VII. Словники (Dictionary)."
   ],
   "metadata": {
    "id": "kWc8gkzTx7Ea"
   }
  },
  {
   "cell_type": "markdown",
   "source": [
    "20. Створіть пустий словник. До нього додайте чотири пари елементів такі, щоб їхні ключі були різних типів. Чи може список бути ключем? Чому?"
   ],
   "metadata": {
    "id": "i5FLwj-B2ybQ"
   }
  },
  {
   "cell_type": "code",
   "source": [
    "items = {}\n",
    "items[\"str\"] = 123\n",
    "items[123] = 666.666\n",
    "items[666.666] = False\n",
    "items[False] = \"str\"\n",
    "\n",
    "print(items)\n",
    "\n",
    "try:\n",
    "\titems[[1, 2, 3]] = 123\n",
    "\tprint(items)\n",
    "except TypeError as e:\n",
    "\tprint(e)"
   ],
   "metadata": {
    "id": "hxgv3BzrgLAV",
    "ExecuteTime": {
     "end_time": "2025-02-22T16:19:06.751994Z",
     "start_time": "2025-02-22T16:19:06.743115Z"
    }
   },
   "outputs": [
    {
     "name": "stdout",
     "output_type": "stream",
     "text": [
      "{'str': 123, 123: 666.666, 666.666: False, False: 'str'}\n",
      "unhashable type: 'list'\n"
     ]
    }
   ],
   "execution_count": 25
  },
  {
   "cell_type": "markdown",
   "source": "As we can see, list can't be used as a key because it can't be hashed. The reason why hash is not implemented (it's totally possible) is that it's a mutable type. Programmer might mutate the list used as a key and therefore change its hash, which would break dictionary invariants. For the same reason, other mutable types should not be used as keys.",
   "metadata": {
    "id": "zwa7UVN-gR3m"
   }
  },
  {
   "cell_type": "markdown",
   "source": [
    "21. Створіть словник, де значенням в одній з пар теж буде словник, який теж має вкладений словник. Виведіть на екран значення, що міститься в словнику, що знаходиться на найнижчому рівні ієрархії вкладеності (найбільш внутрішній)."
   ],
   "metadata": {
    "id": "WM_pMlJsgoNf"
   }
  },
  {
   "cell_type": "code",
   "source": [
    "a = {\n",
    "\t\"123\": 123,\n",
    "\t\"list\": [1, 2, 3],\n",
    "\t\"dict\": {\n",
    "\t\t\"456\": 456,\n",
    "\t\tNone: [4, 5, 6],\n",
    "\t\t101: {\n",
    "\t\t\tTrue: 789\n",
    "\t\t}\n",
    "\t}\n",
    "}\n",
    "\n",
    "print(a[\"dict\"][101][True])"
   ],
   "metadata": {
    "id": "60dlP7IHhAy4",
    "ExecuteTime": {
     "end_time": "2025-02-22T16:19:06.774639Z",
     "start_time": "2025-02-22T16:19:06.767528Z"
    }
   },
   "outputs": [
    {
     "name": "stdout",
     "output_type": "stream",
     "text": [
      "789\n"
     ]
    }
   ],
   "execution_count": 26
  },
  {
   "cell_type": "markdown",
   "source": [
    "# Вітаю! Ви велика(ий) молодець, що впоралась(вся). Похваліть себе та побалуйте чимось приємним. Я Вами пишаюся."
   ],
   "metadata": {
    "id": "xOZP0hkx6cCr"
   }
  }
 ]
}
