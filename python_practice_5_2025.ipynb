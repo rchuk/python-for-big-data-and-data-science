{
 "nbformat": 4,
 "nbformat_minor": 0,
 "metadata": {
  "colab": {
   "provenance": []
  },
  "kernelspec": {
   "name": "python3",
   "display_name": "Python 3 (ipykernel)",
   "language": "python"
  },
  "language_info": {
   "name": "python"
  }
 },
 "cells": [
  {
   "cell_type": "markdown",
   "source": [
    "# I. OOP"
   ],
   "metadata": {
    "id": "5qV_sehzFCTp"
   }
  },
  {
   "cell_type": "markdown",
   "source": [
    "1. (6б). Створіть клас Building, додайте три атрибути, один з яких має значення за замовчуванням та два методи на свій розсуд."
   ],
   "metadata": {
    "id": "tx_U_hOALyfg"
   }
  },
  {
   "cell_type": "code",
   "source": [
    "class Building:\n",
    "    def __init__(self, address: str, floor_count: int = 1, color: int = 0xFFFFFF) -> None:\n",
    "        self.address = address\n",
    "        self.floor_count = floor_count\n",
    "        self.color = color\n",
    "        \n",
    "    def build_floor(self):\n",
    "        self.floor_count += 1\n",
    "        \n",
    "    def __str__(self) -> str:\n",
    "        return f\"Building with address '{self.address}' and floor_count {self.floor_count} and color {self.color}'\""
   ],
   "metadata": {
    "id": "-Vf895KaL88N",
    "ExecuteTime": {
     "end_time": "2025-03-19T19:38:04.215394Z",
     "start_time": "2025-03-19T19:38:04.210321Z"
    }
   },
   "outputs": [],
   "execution_count": 2
  },
  {
   "cell_type": "markdown",
   "source": [
    "2. (2б). Створіть два обʼєкти цього класу, де один з обʼєктів створюється із дефолтним значенням атрибуту. На одному обʼєкті отримайте значення його атрибуту, а на іншому викличте один з його методів."
   ],
   "metadata": {
    "id": "X_UlOMB0L93w"
   }
  },
  {
   "cell_type": "code",
   "source": [
    "building_a = Building(\"Hryhoriya Skovorody St, 2\")\n",
    "building_b = Building(\"Semena Sklyarenka St, 5\", floor_count=5, color=0xFF0000)\n",
    "\n",
    "print(\"A floor count: \", building_a.floor_count)\n",
    "building_a.build_floor()\n",
    "print(\"After building a floor: \", building_a.floor_count)\n",
    "\n",
    "print(f\"Building B color: {building_b.color:02X}\")"
   ],
   "metadata": {
    "id": "7gBu0ESOMCpG",
    "ExecuteTime": {
     "end_time": "2025-03-19T19:38:50.402252Z",
     "start_time": "2025-03-19T19:38:50.395452Z"
    }
   },
   "outputs": [
    {
     "name": "stdout",
     "output_type": "stream",
     "text": [
      "A floor count:  1\n",
      "After building a floor:  2\n",
      "Building B color: FF0000\n"
     ]
    }
   ],
   "execution_count": 6
  },
  {
   "cell_type": "markdown",
   "source": [
    "3. (5б). Створіть клас, де атрибути мають різні рівні доступу. Спробуйте отримати їхні значення та опишіть результати."
   ],
   "metadata": {
    "id": "HoqSCZt1MHn5"
   }
  },
  {
   "cell_type": "code",
   "source": [
    "class Person:\n",
    "    def __init__(self, name: str, age: int, money: int) -> None:\n",
    "        self.name = name\n",
    "        self._age = age\n",
    "        self.__money = money\n",
    "        \n",
    "person = Person(\"Ruslan Omelchuk\", 20, -100)\n",
    "print(person.name) # Anyone can get the person name\n",
    "print(person._age) # It's rude to access age, but underscore (protected member) is only a recommendation\n",
    "print(person.__money) # Private variable names are mangled and can't be accessed easily"
   ],
   "metadata": {
    "id": "r9b3vJxBMSPV",
    "ExecuteTime": {
     "end_time": "2025-03-19T19:38:56.262256Z",
     "start_time": "2025-03-19T19:38:56.246259Z"
    }
   },
   "outputs": [
    {
     "name": "stdout",
     "output_type": "stream",
     "text": [
      "Ruslan Omelchuk\n",
      "20\n"
     ]
    },
    {
     "ename": "AttributeError",
     "evalue": "'Person' object has no attribute '__money'",
     "output_type": "error",
     "traceback": [
      "\u001B[1;31m---------------------------------------------------------------------------\u001B[0m",
      "\u001B[1;31mAttributeError\u001B[0m                            Traceback (most recent call last)",
      "Cell \u001B[1;32mIn[7], line 10\u001B[0m\n\u001B[0;32m      8\u001B[0m \u001B[38;5;28mprint\u001B[39m(person\u001B[38;5;241m.\u001B[39mname) \u001B[38;5;66;03m# Anyone can get the person name\u001B[39;00m\n\u001B[0;32m      9\u001B[0m \u001B[38;5;28mprint\u001B[39m(person\u001B[38;5;241m.\u001B[39m_age) \u001B[38;5;66;03m# It's rude to access age, but underscore (protected member) is only a recommendation\u001B[39;00m\n\u001B[1;32m---> 10\u001B[0m \u001B[38;5;28mprint\u001B[39m(\u001B[43mperson\u001B[49m\u001B[38;5;241;43m.\u001B[39;49m\u001B[43m__money\u001B[49m) \u001B[38;5;66;03m# Private variable names are mangled and can't be accessed easily\u001B[39;00m\n",
      "\u001B[1;31mAttributeError\u001B[0m: 'Person' object has no attribute '__money'"
     ]
    }
   ],
   "execution_count": 7
  },
  {
   "cell_type": "markdown",
   "source": [
    "4. (7б). Як ви розумієте термін self? Для чого використовується метод __init __?"
   ],
   "metadata": {
    "id": "5op2m2vgMSkZ"
   }
  },
  {
   "cell_type": "markdown",
   "source": [
    "`self` is a reference to an object, on which the method was invoked. It allows us to access its attributes and call other member functions.\n",
    "\n",
    "The `__init__` method acts like object constructor, to create object with some initial valid state. It also allows to set attributes, via `self` object that is passed as the first argument."
   ],
   "metadata": {
    "id": "DyiPqNRvMasx"
   }
  },
  {
   "cell_type": "markdown",
   "source": [
    "5. (9б). Створіть клас 3D-фігура без атрибутів, з методом get_volume для отримання об'єму фігури, що повертає 0 та __add __, який приймає self та other в якості аргументів, а повертає суму об'ємів 3d-фігур self та other."
   ],
   "metadata": {
    "id": "-6X8EGfjMd2y"
   }
  },
  {
   "cell_type": "code",
   "source": [
    "class Shape3D:\n",
    "    def get_volume(self) -> float:\n",
    "        return 0\n",
    "    \n",
    "    def __add__(self, other):\n",
    "        if not isinstance(other, Shape3D):\n",
    "            raise TypeError(\"Shape3D can only be added with Shape3D\")\n",
    "        \n",
    "        return self.get_volume() + other.get_volume()"
   ],
   "metadata": {
    "id": "4rvO_wYUMaEr",
    "ExecuteTime": {
     "end_time": "2025-03-19T19:38:59.921900Z",
     "start_time": "2025-03-19T19:38:59.917261Z"
    }
   },
   "outputs": [],
   "execution_count": 8
  },
  {
   "cell_type": "markdown",
   "source": [
    "6. (11б). Створіть 2 дочірніх класи від 3d-фігура: Циліндр та Куб, які мають атрибути, необхідні для розрахунку об'єму. Визначте метод get_volume в кожному з них так, щоби вони розраховували об'єм у залежності від формули для кожного типу фігури. Створіть обʼєкт класу Циліндр та обʼєкт класу Куб. Виконайте операцію суми за допомогою оператора + між ними, аби знайти сумарний об'єм."
   ],
   "metadata": {
    "id": "SFcKnnv5Mo_z"
   }
  },
  {
   "cell_type": "code",
   "source": [
    "import math\n",
    "\n",
    "class Cylinder(Shape3D):\n",
    "    def __init__(self, radius: float, height: float) -> None:\n",
    "        self.radius = radius\n",
    "        self.height = height\n",
    "    \n",
    "    def get_volume(self) -> float:\n",
    "        return math.pi * (self.radius ** 2) * self.height\n",
    "    \n",
    "class Cube(Shape3D):\n",
    "    def __init__(self, side: float) -> None:\n",
    "        self.side = side\n",
    "        \n",
    "    def get_volume(self) -> float:\n",
    "        return self.side ** 3\n",
    "    \n",
    "cylinder = Cylinder(radius=1, height=3)\n",
    "cube = Cube(side=2)\n",
    "print(\"Cylinder volume: \", cylinder.get_volume())\n",
    "print(\"Cube volume: \", cube.get_volume())\n",
    "print(\"Total volume: \", cylinder + cube)"
   ],
   "metadata": {
    "id": "H3GVNr69Muf3",
    "ExecuteTime": {
     "end_time": "2025-03-19T19:39:03.466976Z",
     "start_time": "2025-03-19T19:39:03.460908Z"
    }
   },
   "outputs": [
    {
     "name": "stdout",
     "output_type": "stream",
     "text": [
      "Cylinder volume:  9.42477796076938\n",
      "Cube volume:  8\n",
      "Total volume:  17.42477796076938\n"
     ]
    }
   ],
   "execution_count": 9
  },
  {
   "cell_type": "markdown",
   "source": "7. (3б). Продемонструйте різницю між isinstance та issubclass.",
   "metadata": {
    "id": "HCvR206YMvLK"
   }
  },
  {
   "cell_type": "code",
   "source": [
    "class Foo:\n",
    "    pass\n",
    "\n",
    "class Bar(Foo):\n",
    "    pass\n",
    "\n",
    "foo = Foo()\n",
    "bar = Bar()\n",
    "\n",
    "print(isinstance(foo, Foo))  # True, foo is an instance of Foo\n",
    "print(isinstance(bar, Foo))  # True, bar is an instance of Bar, which is a subclass of Foo\n",
    "print(isinstance(bar, Bar))  # True, because bar is an instance of Bar\n",
    "print(isinstance(foo, Bar))  # False, because foo is not an instance of Bar\n",
    "\n",
    "print(issubclass(Bar, Foo))  # True, Bar is a subclass of Foo\n",
    "print(issubclass(Foo, Bar))  # False, Foo is not a subclass of Bar\n",
    "print(issubclass(Foo, Foo))  # True, any class is a subclass of itself\n",
    "print(issubclass(Bar, object))  # True, because all classes inherit from object"
   ],
   "metadata": {
    "id": "L_V1bBvDM0GN",
    "ExecuteTime": {
     "end_time": "2025-03-19T19:22:52.729899Z",
     "start_time": "2025-03-19T19:22:52.723041Z"
    }
   },
   "outputs": [
    {
     "name": "stdout",
     "output_type": "stream",
     "text": [
      "True\n",
      "True\n",
      "True\n",
      "False\n",
      "True\n",
      "False\n",
      "True\n",
      "True\n"
     ]
    }
   ],
   "execution_count": 9
  },
  {
   "metadata": {},
   "cell_type": "markdown",
   "source": "The main difference is that `isinstance` works on an object and a class, and `issubclass` checks two classes."
  },
  {
   "cell_type": "markdown",
   "source": [
    "8. (13б). Створіть клас EWallet з приватними атрибутами balance та id. Реалізуйте методи поповнення та зняття коштів, забезпечивши належну інкапсуляцію. Підказка: використовуйте декоратори property та setter."
   ],
   "metadata": {
    "id": "jjsaBZ-iM0Qq"
   }
  },
  {
   "cell_type": "code",
   "source": [
    "class EWallet:\n",
    "    __id_counter = 1  \n",
    "\n",
    "    def __init__(self, initial_balance: float = 0):\n",
    "        self.__id = EWallet.__generate_id()\n",
    "        self.__balance = 0.0 # Money shouldn't be stored as a float, but it's a simple example\n",
    "        self.balance = initial_balance  \n",
    "\n",
    "    @classmethod\n",
    "    def __generate_id(cls) -> int:\n",
    "        unique_id = cls.__id_counter\n",
    "        cls.__id_counter += 1\n",
    "        return unique_id\n",
    "    \n",
    "    @property\n",
    "    def id(self) -> int:\n",
    "        return self.__id\n",
    "\n",
    "    @property\n",
    "    def balance(self) -> float:\n",
    "        return self.__balance\n",
    "\n",
    "    @balance.setter\n",
    "    def balance(self, amount: float) -> None:\n",
    "        if not isinstance(amount, (int, float)):\n",
    "            raise TypeError(\"Balance must be a number.\")\n",
    "        if amount < 0:\n",
    "            raise ValueError(\"Balance cannot be negative.\")\n",
    "        self.__balance = amount\n",
    "\n",
    "    def deposit(self, amount: float) -> str:\n",
    "        if amount <= 0:\n",
    "            raise ValueError(\"Deposit amount must be positive.\")\n",
    "        self.balance += amount\n",
    "        \n",
    "        return f\"Deposited ${amount:.2f}. New balance: ${self.balance:.2f}\"\n",
    "\n",
    "    def withdraw(self, amount: float) -> str:\n",
    "        if amount <= 0:\n",
    "            raise ValueError(\"Withdrawal amount must be positive.\")\n",
    "        if amount > self.balance:\n",
    "            raise ValueError(\"Insufficient balance.\")\n",
    "        self.balance -= amount\n",
    "        \n",
    "        return f\"Withdrew ${amount:.2f}. Remaining balance: ${self.balance:.2f}\"\n",
    "\n",
    "    def __str__(self) -> str:\n",
    "        return f\"EWallet ID: {self.id}\\nBalance: ${self.balance:.2f}\"\n",
    "\n",
    "wallet = EWallet(100)\n",
    "print(wallet)\n",
    "\n",
    "wallet.balance = 420  \n",
    "print(f\"Updated Balance: ${wallet.balance:.2f}\")\n",
    "\n",
    "try:\n",
    "    wallet.balance = -50  \n",
    "except ValueError as e:\n",
    "    print(f\"Error: {e}\")\n",
    "\n",
    "try:\n",
    "    wallet.balance = \"invalid\"  \n",
    "except TypeError as e:\n",
    "    print(f\"Error: {e}\")\n",
    "\n",
    "\n",
    "print(wallet.deposit(50))  \n",
    "print(wallet.withdraw(30))  \n",
    "\n",
    "try:\n",
    "    print(wallet.withdraw(200))  \n",
    "except ValueError as e:\n",
    "    print(f\"Error: {e}\")\n",
    "\n",
    "try:\n",
    "    print(wallet.deposit(-10))  \n",
    "except ValueError as e:\n",
    "    print(f\"Error: {e}\")"
   ],
   "metadata": {
    "id": "xCvZ7lh8M7YA",
    "ExecuteTime": {
     "end_time": "2025-03-20T05:34:46.933848Z",
     "start_time": "2025-03-20T05:34:46.918480Z"
    }
   },
   "outputs": [
    {
     "name": "stdout",
     "output_type": "stream",
     "text": [
      "EWallet ID: 1\n",
      "Balance: $100.00\n",
      "Updated Balance: $420.00\n",
      "Error: Balance cannot be negative.\n",
      "Error: Balance must be a number.\n",
      "Deposited $50.00. New balance: $470.00\n",
      "Withdrew $30.00. Remaining balance: $440.00\n",
      "Withdrew $200.00. Remaining balance: $240.00\n",
      "Error: Deposit amount must be positive.\n"
     ]
    }
   ],
   "execution_count": 14
  },
  {
   "cell_type": "markdown",
   "source": [
    "9. (11б). Створіть клас ShoppingCart, який містить список об'єктів типу Item. Реалізуйте методи для додавання айтемів, їх видалення та відображення списку айтемів."
   ],
   "metadata": {
    "id": "tIzL2SJTM8ft"
   }
  },
  {
   "cell_type": "code",
   "source": [
    "class Item:\n",
    "    def __init__(self, name: str, unit_price: float = 0, quantity: int = 1) -> None:\n",
    "        self.name = name\n",
    "        self.unit_price = unit_price\n",
    "        self.quantity = quantity\n",
    "\n",
    "    @property\n",
    "    def price(self):\n",
    "        return self.unit_price * self.quantity\n",
    "\n",
    "    def __str__(self):\n",
    "        return f\"{self.name} | ${self.price:.2f}\"\n",
    "    \n",
    "    def __hash__(self):\n",
    "        return hash(self.name)\n",
    "    \n",
    "    def __eq__(self, other):\n",
    "        return self.name == other.name\n",
    "\n",
    "class ShoppingCart:\n",
    "    def __init__(self):\n",
    "        self.items = set()\n",
    "\n",
    "    def add_item(self, item: Item):\n",
    "        if item in self.items:\n",
    "            self.items[item].quantity += 1\n",
    "        else:\n",
    "            self.items.add(item)\n",
    "\n",
    "    def remove_item(self, item_name: str):\n",
    "        if item_name in self.items:\n",
    "            self.items.remove(item_name)\n",
    "        else:\n",
    "            raise ValueError(f\"Item '{item_name}' not found in cart\")\n",
    "\n",
    "    def display_items(self):\n",
    "        if not self.items:\n",
    "            print(\"Shopping cart is empty.\")\n",
    "        else:\n",
    "            print(\"Shopping Cart:\")\n",
    "            for item in self.items:\n",
    "                print(f\" - {item}\")\n",
    "\n",
    "    def total_price(self):\n",
    "        return sum(item.price for item in self.items)\n",
    "\n",
    "\n",
    "cart = ShoppingCart()\n",
    "cart.add_item(Item(\"Potato\", 666, 1))\n",
    "cart.add_item(Item(\"Water\", 19.50, 2))\n",
    "cart.display_items()\n",
    "\n",
    "print(f\"Total Price: ${cart.total_price():.2f}\")\n",
    "\n",
    "print(\"Removing potato...\")\n",
    "cart.remove_item(Item(\"Potato\"))\n",
    "cart.display_items()\n",
    "\n",
    "print(f\"Total Price: ${cart.total_price():.2f}\")"
   ],
   "metadata": {
    "id": "HWxfJKLtNAUZ",
    "ExecuteTime": {
     "end_time": "2025-03-20T05:29:16.497448Z",
     "start_time": "2025-03-20T05:29:16.486140Z"
    }
   },
   "outputs": [
    {
     "name": "stdout",
     "output_type": "stream",
     "text": [
      "Shopping Cart:\n",
      " - Water | $39.00\n",
      " - Potato | $666.00\n",
      "Total Price: $705.00\n",
      "Removing potato...\n",
      "Shopping Cart:\n",
      " - Water | $39.00\n",
      "Total Price: $39.00\n"
     ]
    }
   ],
   "execution_count": 11
  },
  {
   "cell_type": "markdown",
   "source": [
    "10. (13б). Створіть клас Vehicle з атрибутами brand (manufacturer) та production_age. Створіть ще один клас Engine з такими атрибутами, як type (ex. petrol) та size (volume, litres). Створіть клас Car, який успадковує обидва класи Vehicle та Engine. Продемонструйте використання множинної спадковості, створивши обʼєкт класу Car та отримавши mro для цього класу."
   ],
   "metadata": {
    "id": "lmV8pAwwNIqu"
   }
  },
  {
   "cell_type": "code",
   "source": [
    "class Vehicle:\n",
    "    def __init__(self, brand: str, production_age: int):\n",
    "        self.brand = brand\n",
    "        self.production_age = production_age\n",
    "\n",
    "    def get_vehicle_info(self):\n",
    "        return f\"Brand: {self.brand}, Age: {self.production_age} years\"\n",
    "    \n",
    "\n",
    "class Engine:\n",
    "    def __init__(self, engine_type: str, volume: float):\n",
    "        self.engine_type = engine_type\n",
    "        self.volume = volume\n",
    "\n",
    "    def get_engine_info(self):\n",
    "        return f\"Engine Type: {self.engine_type}, Volume: {self.volume}L\"\n",
    "\n",
    "\n",
    "class Car(Vehicle, Engine):\n",
    "    def __init__(self, brand: str, production_age: int, engine_type: str, size: float):\n",
    "        Vehicle.__init__(self, brand, production_age)\n",
    "        Engine.__init__(self, engine_type, size)\n",
    "\n",
    "    def get_car_info(self):\n",
    "        return f\"{self.get_vehicle_info()}; {self.get_engine_info()}\"\n",
    "\n",
    "\n",
    "print(Car.mro())\n",
    "car = Car(\"Mercedes\", 10, \"Petrol\", 2.0)\n",
    "print(car.get_car_info())"
   ],
   "metadata": {
    "id": "R49grKlWNPeN",
    "ExecuteTime": {
     "end_time": "2025-03-20T05:26:43.219696Z",
     "start_time": "2025-03-20T05:26:43.197776Z"
    }
   },
   "outputs": [
    {
     "name": "stdout",
     "output_type": "stream",
     "text": [
      "[<class '__main__.Car'>, <class '__main__.Vehicle'>, <class '__main__.Engine'>, <class 'object'>]\n",
      "Brand: Mercedes, Age: 10 years; Engine Type: Petrol, Volume: 2.0L\n"
     ]
    }
   ],
   "execution_count": 6
  },
  {
   "cell_type": "markdown",
   "source": [
    "# II. Iterator"
   ],
   "metadata": {
    "id": "dIJyUiNBFG8G"
   }
  },
  {
   "cell_type": "markdown",
   "source": [
    "11. (4б). Визначте рядок(str) з 4ма різними за значенням символами. Створіть ітератор на основі цього рядка. Викличте 5 разів функцію next на ітераторі, 4ри перших з них огорніть у ф-цію print()."
   ],
   "metadata": {
    "id": "13vsm0NyKIzL"
   }
  },
  {
   "cell_type": "code",
   "source": [
    "string = \"abcd\"\n",
    "iterator = iter(string)\n",
    "\n",
    "print(next(iterator))\n",
    "print(next(iterator))\n",
    "print(next(iterator))\n",
    "print(next(iterator))\n",
    "out_of_bounds = next(iterator)"
   ],
   "metadata": {
    "id": "81ntabAkKuz-",
    "ExecuteTime": {
     "end_time": "2025-03-19T19:25:43.823829Z",
     "start_time": "2025-03-19T19:25:43.795277Z"
    }
   },
   "outputs": [
    {
     "name": "stdout",
     "output_type": "stream",
     "text": [
      "a\n",
      "b\n",
      "c\n",
      "d\n"
     ]
    },
    {
     "ename": "StopIteration",
     "evalue": "",
     "output_type": "error",
     "traceback": [
      "\u001B[1;31m---------------------------------------------------------------------------\u001B[0m",
      "\u001B[1;31mStopIteration\u001B[0m                             Traceback (most recent call last)",
      "Cell \u001B[1;32mIn[10], line 8\u001B[0m\n\u001B[0;32m      6\u001B[0m \u001B[38;5;28mprint\u001B[39m(\u001B[38;5;28mnext\u001B[39m(iterator))\n\u001B[0;32m      7\u001B[0m \u001B[38;5;28mprint\u001B[39m(\u001B[38;5;28mnext\u001B[39m(iterator))\n\u001B[1;32m----> 8\u001B[0m out_of_bounds \u001B[38;5;241m=\u001B[39m \u001B[38;5;28;43mnext\u001B[39;49m\u001B[43m(\u001B[49m\u001B[43miterator\u001B[49m\u001B[43m)\u001B[49m\n",
      "\u001B[1;31mStopIteration\u001B[0m: "
     ]
    }
   ],
   "execution_count": 10
  },
  {
   "cell_type": "markdown",
   "source": [
    "А що якщо викликати цю ж функцію на рядку?"
   ],
   "metadata": {
    "id": "aekWHGXOLRsO"
   }
  },
  {
   "cell_type": "code",
   "source": "print(next(string)) # string is not an iterator",
   "metadata": {
    "id": "mxATGsErLV1i",
    "ExecuteTime": {
     "end_time": "2025-03-19T19:25:59.107838Z",
     "start_time": "2025-03-19T19:25:59.091519Z"
    }
   },
   "outputs": [
    {
     "ename": "TypeError",
     "evalue": "'str' object is not an iterator",
     "output_type": "error",
     "traceback": [
      "\u001B[1;31m---------------------------------------------------------------------------\u001B[0m",
      "\u001B[1;31mTypeError\u001B[0m                                 Traceback (most recent call last)",
      "Cell \u001B[1;32mIn[11], line 1\u001B[0m\n\u001B[1;32m----> 1\u001B[0m \u001B[38;5;28mprint\u001B[39m(\u001B[38;5;28;43mnext\u001B[39;49m\u001B[43m(\u001B[49m\u001B[43mstring\u001B[49m\u001B[43m)\u001B[49m)\n",
      "\u001B[1;31mTypeError\u001B[0m: 'str' object is not an iterator"
     ]
    }
   ],
   "execution_count": 11
  },
  {
   "cell_type": "markdown",
   "source": [
    " 12. (5б). Опишіть своїми словами в одному реченні, як ви розумієте різницю між ітерабельними обʼєктами та ітераторами (можна на прикладі)."
   ],
   "metadata": {
    "id": "XwtMEopwJ4pH"
   }
  },
  {
   "cell_type": "markdown",
   "source": [
    "Iterable object implements `__iter__` method, that returns an iterator. This iterator can be created over and over again, as the object \"owns\" the data. This object can be a list, map, tuple or string.\n",
    "While iterator keeps the current state of the iteration, and is only valid until the end of it's corresponding container is reached (although it may be infinite too)."
   ],
   "metadata": {
    "id": "-sHrODc3KFn8"
   }
  },
  {
   "cell_type": "markdown",
   "source": [
    "13. (11б). Створіть клас, що має визначений Iterator Protocol та при кожному виклику next повертає назву дня тижня, поки вони не вичерпаються. Зверніть увагу, що порядок має значення."
   ],
   "metadata": {
    "id": "E9qJWmNbK8Gl"
   }
  },
  {
   "cell_type": "code",
   "source": [
    "class WeekIter:\n",
    "    days = [\"Monday\", \"Tuesday\", \"Wednesday\", \"Thursday\", \"Friday\", \"Saturday\", \"Sunday\"]\n",
    "    def __init__(self):\n",
    "        self.index = 0\n",
    "\n",
    "    def __iter__(self):\n",
    "        return self\n",
    "\n",
    "    def __next__(self):\n",
    "        if self.index >= len(self.days):\n",
    "            raise StopIteration\n",
    "        \n",
    "        day = self.days[self.index]\n",
    "        self.index += 1\n",
    "        \n",
    "        return day\n",
    "    \n",
    "iterator = WeekIter()\n",
    "print(next(iterator))\n",
    "print(next(iterator))\n",
    "for day in iterator:\n",
    "    print(day)"
   ],
   "metadata": {
    "id": "cqx-g_RsLo6I",
    "ExecuteTime": {
     "end_time": "2025-03-19T19:29:02.201745Z",
     "start_time": "2025-03-19T19:29:02.196600Z"
    }
   },
   "outputs": [
    {
     "name": "stdout",
     "output_type": "stream",
     "text": [
      "Monday\n",
      "Tuesday\n",
      "Wednesday\n",
      "Thursday\n",
      "Friday\n",
      "Saturday\n",
      "Sunday\n"
     ]
    }
   ],
   "execution_count": 13
  },
  {
   "cell_type": "markdown",
   "source": [
    "# Вітаю! Ви велика(ий) молодець, що впоралась(вся). Похваліть себе та побалуйте чимось приємним. Я Вами пишаюся."
   ],
   "metadata": {
    "id": "Z3E3S_s1Fv7-"
   }
  }
 ]
}
